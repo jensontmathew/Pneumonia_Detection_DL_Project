{
 "cells": [
  {
   "cell_type": "markdown",
   "id": "833d6136",
   "metadata": {},
   "source": [
    "**This model is created because our pneumonia detection model was able to identify pneumonia in chest x rays. But our model can't able to determine the input image is chest x ray or not. So we created this model with chest xray images,dog and cat images and trained the model to correctly identify the input image as chest x ray or not.**"
   ]
  },
  {
   "cell_type": "code",
   "execution_count": 98,
   "id": "34c92ddc",
   "metadata": {},
   "outputs": [],
   "source": [
    "import numpy as np\n",
    "import tensorflow as tf\n",
    "from keras.layers import Dense,Conv2D,MaxPool2D,Flatten\n",
    "from keras.models import Sequential\n",
    "from keras.preprocessing.image import ImageDataGenerator"
   ]
  },
  {
   "cell_type": "code",
   "execution_count": 99,
   "id": "b03e6696",
   "metadata": {},
   "outputs": [],
   "source": [
    "#path to training data\n",
    "dataset_path1='/Users/jensontmathew/Documents/My_Projects/Pneumonia_detection/Chest_xray/train'"
   ]
  },
  {
   "cell_type": "code",
   "execution_count": 100,
   "id": "1872ec33",
   "metadata": {},
   "outputs": [],
   "source": [
    "#path to testing data\n",
    "dataset_path2='/Users/jensontmathew/Documents/My_Projects/Pneumonia_detection/Chest_xray/test'"
   ]
  },
  {
   "cell_type": "code",
   "execution_count": 101,
   "id": "31458f4e",
   "metadata": {},
   "outputs": [],
   "source": [
    "batch_size=32\n",
    "image_size=(224,224)\n",
    "epochs=10"
   ]
  },
  {
   "cell_type": "code",
   "execution_count": 102,
   "id": "a24cdc0e",
   "metadata": {},
   "outputs": [],
   "source": [
    "train_datagen = ImageDataGenerator(1./255,validation_split=0.2)"
   ]
  },
  {
   "cell_type": "code",
   "execution_count": 103,
   "id": "99bb7c1e",
   "metadata": {},
   "outputs": [
    {
     "name": "stdout",
     "output_type": "stream",
     "text": [
      "Found 106 images belonging to 3 classes.\n"
     ]
    }
   ],
   "source": [
    "training_generator = train_datagen.flow_from_directory(dataset_path1,batch_size=batch_size,\n",
    "                                                       target_size=image_size,subset='training',\n",
    "                                                       class_mode='categorical')"
   ]
  },
  {
   "cell_type": "code",
   "execution_count": 104,
   "id": "6b6283ff",
   "metadata": {},
   "outputs": [
    {
     "name": "stdout",
     "output_type": "stream",
     "text": [
      "Found 12 images belonging to 3 classes.\n"
     ]
    }
   ],
   "source": [
    "validation_generator = train_datagen.flow_from_directory(dataset_path2,batch_size=batch_size,\n",
    "                                                         target_size=image_size,class_mode='categorical',subset='validation')"
   ]
  },
  {
   "cell_type": "code",
   "execution_count": 105,
   "id": "70c83392",
   "metadata": {},
   "outputs": [],
   "source": [
    "model = Sequential()\n",
    "model.add(Conv2D(32,(3,3),activation='relu',input_shape=(224,224,3)))\n",
    "model.add(MaxPool2D(2,2))\n",
    "model.add(Conv2D(64,(3,3),activation='relu'))\n",
    "model.add(MaxPool2D(3,3))\n",
    "model.add(Conv2D(128,(3,3),activation='relu'))\n",
    "model.add(MaxPool2D(3,3))\n",
    "model.add(Flatten())\n",
    "model.add(Dense(128,activation='relu'))\n",
    "model.add(Dense(3,activation='softmax'))"
   ]
  },
  {
   "cell_type": "code",
   "execution_count": 106,
   "id": "67a91e3d",
   "metadata": {},
   "outputs": [],
   "source": [
    "model.compile(optimizer='adam',loss='categorical_crossentropy',metrics=['accuracy'])"
   ]
  },
  {
   "cell_type": "code",
   "execution_count": 107,
   "id": "fcc39873",
   "metadata": {},
   "outputs": [
    {
     "name": "stdout",
     "output_type": "stream",
     "text": [
      "Epoch 1/10\n",
      "3/3 [==============================] - 2s 881ms/step - loss: 194.8457 - accuracy: 0.2838\n",
      "Epoch 2/10\n",
      "3/3 [==============================] - 2s 500ms/step - loss: 28.4433 - accuracy: 0.4054\n",
      "Epoch 3/10\n",
      "3/3 [==============================] - 2s 515ms/step - loss: 2.8501 - accuracy: 0.4730\n",
      "Epoch 4/10\n",
      "3/3 [==============================] - 2s 482ms/step - loss: 2.7969 - accuracy: 0.7162\n",
      "Epoch 5/10\n",
      "3/3 [==============================] - 2s 700ms/step - loss: 1.2586 - accuracy: 0.7917\n",
      "Epoch 6/10\n",
      "3/3 [==============================] - 2s 767ms/step - loss: 0.6002 - accuracy: 0.7568\n",
      "Epoch 7/10\n",
      "3/3 [==============================] - 2s 694ms/step - loss: 0.3176 - accuracy: 0.8229\n",
      "Epoch 8/10\n",
      "3/3 [==============================] - 2s 475ms/step - loss: 0.2747 - accuracy: 0.9459\n",
      "Epoch 9/10\n",
      "3/3 [==============================] - 2s 689ms/step - loss: 0.2081 - accuracy: 0.9688\n",
      "Epoch 10/10\n",
      "3/3 [==============================] - 2s 486ms/step - loss: 0.1528 - accuracy: 0.9189\n"
     ]
    }
   ],
   "source": [
    "history = model.fit(training_generator,steps_per_epoch=training_generator.samples//batch_size,\n",
    "                    validation_data = validation_generator,\n",
    "                    validation_steps = validation_generator.samples//batch_size,\n",
    "                    epochs=epochs)"
   ]
  },
  {
   "cell_type": "code",
   "execution_count": 108,
   "id": "7e3944ba",
   "metadata": {},
   "outputs": [],
   "source": [
    "from keras.preprocessing import image\n",
    "def image_predict(image_path):\n",
    "    img=image.load_img(image_path,target_size=[224,224])\n",
    "    img=image.img_to_array(img)\n",
    "    img=np.expand_dims(img,axis=0)\n",
    "    img/=255.0\n",
    "    \n",
    "    prediction_index=model.predict(img)\n",
    "    prediction=np.argmax(prediction_index,axis=1)\n",
    "    class_labels = {0: 'Cat', 1: 'Chest_xray', 2: 'Dog'}\n",
    "    predicted_class_label = class_labels.get(prediction[0])\n",
    "\n",
    "    return prediction[0]"
   ]
  },
  {
   "cell_type": "code",
   "execution_count": 109,
   "id": "bafc4784",
   "metadata": {},
   "outputs": [],
   "source": [
    "#sample testing\n",
    "cat_image_path='/Users/jensontmathew/Documents/My_Projects/Pneumonia_detection/Chest_xray/train/cat/cat.1031.jpg'\n",
    "dog_image_path='/Users/jensontmathew/Documents/My_Projects/Pneumonia_detection/Chest_xray/test/dog/dog.3702.jpg'\n",
    "chest_image_path='/Users/jensontmathew/Downloads/TB_Chest_Radiography_Database/Normal/Normal-54.png'"
   ]
  },
  {
   "cell_type": "code",
   "execution_count": 110,
   "id": "9e8013c2",
   "metadata": {},
   "outputs": [
    {
     "name": "stdout",
     "output_type": "stream",
     "text": [
      "1/1 [==============================] - 0s 49ms/step\n"
     ]
    }
   ],
   "source": [
    "pred=image_predict(chest_image_path)"
   ]
  },
  {
   "cell_type": "code",
   "execution_count": 111,
   "id": "d457d285",
   "metadata": {},
   "outputs": [
    {
     "name": "stdout",
     "output_type": "stream",
     "text": [
      "1\n"
     ]
    }
   ],
   "source": [
    "print(pred)"
   ]
  },
  {
   "cell_type": "markdown",
   "id": "147dfd6e",
   "metadata": {},
   "source": [
    "The model predicts accurately"
   ]
  },
  {
   "cell_type": "code",
   "execution_count": 112,
   "id": "eb162c0c",
   "metadata": {},
   "outputs": [
    {
     "name": "stderr",
     "output_type": "stream",
     "text": [
      "/Users/jensontmathew/opt/anaconda3/envs/myenv/lib/python3.8/site-packages/keras/src/engine/training.py:3000: UserWarning: You are saving your model as an HDF5 file via `model.save()`. This file format is considered legacy. We recommend using instead the native Keras format, e.g. `model.save('my_model.keras')`.\n",
      "  saving_api.save_model(\n"
     ]
    }
   ],
   "source": [
    "model.save('chest1.h5')"
   ]
  }
 ],
 "metadata": {
  "kernelspec": {
   "display_name": "Python 3 (ipykernel)",
   "language": "python",
   "name": "python3"
  },
  "language_info": {
   "codemirror_mode": {
    "name": "ipython",
    "version": 3
   },
   "file_extension": ".py",
   "mimetype": "text/x-python",
   "name": "python",
   "nbconvert_exporter": "python",
   "pygments_lexer": "ipython3",
   "version": "3.8.17"
  }
 },
 "nbformat": 4,
 "nbformat_minor": 5
}
